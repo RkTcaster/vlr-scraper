{
  "nbformat": 4,
  "nbformat_minor": 0,
  "metadata": {
    "colab": {
      "provenance": []
    },
    "kernelspec": {
      "name": "python3",
      "display_name": "Python 3"
    },
    "language_info": {
      "name": "python"
    }
  },
  "cells": [
    {
      "cell_type": "code",
      "execution_count": null,
      "metadata": {
        "colab": {
          "base_uri": "https://localhost:8080/"
        },
        "id": "li9WL01Xq5FC",
        "outputId": "024fc2e1-e69f-4d67-ec53-5d0653672465"
      },
      "outputs": [
        {
          "output_type": "stream",
          "name": "stdout",
          "text": [
            "Requirement already satisfied: requests in /usr/local/lib/python3.10/dist-packages (2.31.0)\n",
            "Requirement already satisfied: charset-normalizer<4,>=2 in /usr/local/lib/python3.10/dist-packages (from requests) (3.3.2)\n",
            "Requirement already satisfied: idna<4,>=2.5 in /usr/local/lib/python3.10/dist-packages (from requests) (3.6)\n",
            "Requirement already satisfied: urllib3<3,>=1.21.1 in /usr/local/lib/python3.10/dist-packages (from requests) (2.0.7)\n",
            "Requirement already satisfied: certifi>=2017.4.17 in /usr/local/lib/python3.10/dist-packages (from requests) (2024.2.2)\n"
          ]
        }
      ],
      "source": [
        "!pip install requests #Instalacion de los request"
      ]
    },
    {
      "cell_type": "code",
      "source": [
        "from bs4 import BeautifulSoup\n",
        "from urllib.request import urlopen\n",
        "import csv\n",
        "import re\n",
        "import time\n",
        "import random"
      ],
      "metadata": {
        "id": "iE802AHRtVMU"
      },
      "execution_count": 1,
      "outputs": []
    },
    {
      "cell_type": "code",
      "source": [
        "# corrector de longitud de fila\n",
        "def lenCorrector(rowInfo):\n",
        "  evalList = [\"own_pistol_tt\",\"own_pistol_ct\",\"own_score_tt\",\"rival_score_tt\",\"own_score_ct\",\"rival_score_ct\"]\n",
        "  for col in evalList:\n",
        "    if len(rowInfo[\"map\"])> len(rowInfo[col]):\n",
        "      rowInfo[col].append(0)\n",
        "  if len(rowInfo[\"map\"])> len(rowInfo[\"team\"]):\n",
        "    rowInfo[\"team\"].append(rowInfo[\"team\"][len(rowInfo[\"team\"])-1])\n",
        "    rowInfo[\"rival\"].append(rowInfo[\"rival\"][len(rowInfo[\"rival\"])-1])\n"
      ],
      "metadata": {
        "id": "932xb0DclmGC"
      },
      "execution_count": 2,
      "outputs": []
    },
    {
      "cell_type": "code",
      "source": [
        "def picksBansFiltrado(picksBans):\n",
        "  \"\"\"Function for separete the picks this proccess the pickBans, bans and decider by team, need optimization\n",
        "  in the amount of list, probably a dict is a better option \"\"\"\n",
        "\n",
        "  teams = [] #teams[0] always team A, teams[1] always team B\n",
        "  banA = [] #bans for the team A\n",
        "  banB = [] #bans for the team B\n",
        "  pickA = [] #picks team A\n",
        "  pickB = [] #picks team B\n",
        "  decider = [] #decider map\n",
        "  for count, listaPickBan in enumerate(picksBans):\n",
        "    listaTemp = listaPickBan.split()\n",
        "    if count == 0:\n",
        "      teams.append(listaTemp[0])\n",
        "    if count == 1:\n",
        "      teams.append(listaTemp[0])\n",
        "  for count, listaPickBan in enumerate(picksBans):\n",
        "    listaTemp = listaPickBan.split()\n",
        "    if listaTemp[1] == \"ban\":\n",
        "      if listaTemp[0] == teams[0]:\n",
        "        banA.append(listaTemp[2])\n",
        "      if listaTemp[0] == teams[1]:\n",
        "        banB.append(listaTemp[2])\n",
        "    if listaTemp[1] == \"pick\":\n",
        "      if listaTemp[0] == teams[0]:\n",
        "        pickA.append(listaTemp[2])\n",
        "      if listaTemp[0] == teams[1]:\n",
        "        pickB.append(listaTemp[2])\n",
        "    if listaTemp[1] == \"remains\":\n",
        "      decider.append(listaTemp[0])\n",
        "  return teams,banA,banB,pickA,pickB,decider"
      ],
      "metadata": {
        "id": "m3eexkl42Mrc"
      },
      "execution_count": 3,
      "outputs": []
    },
    {
      "cell_type": "code",
      "source": [
        "def picksBansCsv(teams,banA,banB,pickA,pickB,decider):\n",
        "  \"\"\"Create a list with the bans for team\n",
        "  falta checkear si funciona para bo5, problema con el bo5 columnas del header\"\"\"\n",
        "  teamA = []\n",
        "  teamB = []\n",
        "  header = [\"team\",\"ban1\",\"ban2\",\"le ban1\",\"le ban2\",\"pick1\",\"decider\",\"order\"]\n",
        "  teamA.append(teams[0])\n",
        "  for banPropio in banA:\n",
        "    teamA.append(banPropio)\n",
        "  for banRival in banB:\n",
        "    teamA.append(banRival)\n",
        "  for pick in pickA:\n",
        "    teamA.append(pick)\n",
        "  for deci in decider:\n",
        "    teamA.append(deci)\n",
        "  teamA.append(\"A\")\n",
        "  teamB.append(teams[1])\n",
        "  for banPropio in banB:\n",
        "    teamB.append(banPropio)\n",
        "  for banRival in banA:\n",
        "    teamB.append(banRival)\n",
        "  for pick in pickB:\n",
        "    teamB.append(pick)\n",
        "  for deci in decider:\n",
        "    teamB.append(deci)\n",
        "  teamB.append(\"B\")\n",
        "\n",
        "  return header,teamA,teamB"
      ],
      "metadata": {
        "id": "F92tRlZKCi-Q"
      },
      "execution_count": 4,
      "outputs": []
    },
    {
      "cell_type": "code",
      "source": [
        "#Creating the file\n",
        "def createCsvPicks(filename, head):\n",
        "  with open(fileName,'a') as file:\n",
        "    writer =csv.writer(file)\n",
        "    writer.writerow(head)\n",
        "\n",
        "def writeFunction(filename,teamA,teamB):\n",
        "  with open(filename,'a') as file:\n",
        "    writer = csv.writer(file)\n",
        "    writer.writerow(teamA)\n",
        "    writer.writerow(teamB)\n",
        "    file.close()\n",
        "\n",
        "def createCsvDict(filename,rows): #Creation of the file and headers\n",
        "  with open(filename, \"a\") as csvfile: #creation of the file with te headers\n",
        "    writer = csv.writer(csvfile)\n",
        "    writer.writerow(rows.keys())\n",
        "    csvfile.close()\n",
        "\n",
        "def dictWritter(filename,rows): #stats from the teams\n",
        "      with open(filename, 'a') as csvfile:\n",
        "        writer = csv.writer(csvfile)\n",
        "        writer.writerows(zip(*rows.values()))\n",
        "        csvfile.close()"
      ],
      "metadata": {
        "id": "Ek5SOqc5TLUL"
      },
      "execution_count": 5,
      "outputs": []
    },
    {
      "cell_type": "code",
      "source": [
        "def pistolRounds(soup,rowInfo,bo=3):\n",
        "  if bo == 3:\n",
        "    rondas = [x for x in range(1,67,13)]\n",
        "  else:\n",
        "    rondas = [x for x in range(1,119,13)]\n",
        "\n",
        "  bloques_pistol = soup.find_all('div', class_=\"vlr-rounds-row-col\")\n",
        "  try:\n",
        "    for ronda in rondas:\n",
        "      rondaEvaluada = re.findall(r\"rnd-sq(.*)\",str(bloques_pistol[ronda]))\n",
        "      if rondaEvaluada[0] == ' mod-win mod-ct\">':\n",
        "        rowInfo[\"own_pistol_ct\"].append(1)\n",
        "      elif rondaEvaluada[0] == ' mod-win mod-t\">':\n",
        "        rowInfo[\"own_pistol_tt\"].append(1)\n",
        "      elif rondaEvaluada[1] == ' mod-win mod-ct\">':\n",
        "        rowInfo[\"own_pistol_tt\"].append(0)\n",
        "      elif rondaEvaluada[1] == ' mod-win mod-t\">':\n",
        "        rowInfo[\"own_pistol_ct\"].append(0)\n",
        "      if rondaEvaluada[0] == \"rnd-sq\" and rondaEvaluada[1] == \"rnd-sq\":\n",
        "        rowInfo['own_pistol_ct'].append(0)\n",
        "        rowInfo['own_pistol_tt'].append(0)\n",
        "  except:\n",
        "    pass\n",
        "\n",
        "def extraerScore(soup,mapasJuntos,rowInfo,bo=3):\n",
        "  \"\"\"\n",
        "  Function for scores by side and map played\n",
        "  what is missing: Map pick owner\n",
        "  \"\"\"\n",
        "\n",
        "  bloques_equipos = soup.find_all('div', class_='team')\n",
        "  for map in mapasJuntos:\n",
        "    rowInfo[\"map\"].append(map)\n",
        "  for count, bloque in enumerate(bloques_equipos):\n",
        "    if count%2 == 0:\n",
        "      try:\n",
        "        equipo = bloque.find(\"div\",class_=\"team-name\").text.strip()\n",
        "        rowInfo[\"team\"].append(equipo)\n",
        "        spans = bloque.find_all(\"span\")\n",
        "        for span in spans:\n",
        "          if span[\"class\"][0] == \"mod-t\":\n",
        "            rowInfo[\"own_score_tt\"].append(span.text.strip())\n",
        "          if span[\"class\"][0] == \"mod-ct\":\n",
        "            rowInfo[\"own_score_ct\"].append(span.text.strip())\n",
        "      except:\n",
        "        pass\n",
        "    if count%2 == 1:\n",
        "      try:\n",
        "        equipo = bloque.find(\"div\",class_=\"team-name\").text.strip()\n",
        "        rowInfo[\"rival\"].append(equipo)\n",
        "        spans = bloque.find_all(\"span\")\n",
        "        for span in spans:\n",
        "          if span[\"class\"][0] == \"mod-t\":\n",
        "            rowInfo[\"rival_score_tt\"].append(span.text.strip())\n",
        "          if span[\"class\"][0] == \"mod-ct\":\n",
        "            rowInfo[\"rival_score_ct\"].append(span.text.strip())\n",
        "\n",
        "      except:\n",
        "        pass\n",
        "  pistolRounds(soup,rowInfo,3)\n",
        "  lenCorrector(rowInfo)\n",
        "  return rowInfo\n",
        "\n",
        "#Extract total scores from a match\n",
        "def scoreTotal(soup):\n",
        "  score = soup.find('div',class_='match-header-vs-score')\n",
        "  spanScores = score.find_all(\"span\")\n",
        "  equipoIzq = int(spanScores[0].text.strip())\n",
        "  equipoDer = int(spanScores[2].text.strip())\n",
        "  return equipoIzq+equipoDer\n",
        "\n"
      ],
      "metadata": {
        "id": "VmATRgIoZcIk"
      },
      "execution_count": 7,
      "outputs": []
    },
    {
      "cell_type": "code",
      "source": [
        "def pickBans(soup):\n",
        "  picksBans = soup.find(\"div\",{\"class\":\"match-header-note\"}).get_text() #Extraccion del texto\n",
        "  picksBans = picksBans.strip() #Remover los separados y espacios\n",
        "  picksBans = picksBans.split(\";\")\n",
        "  return picksBans"
      ],
      "metadata": {
        "id": "6ZAkcH95vof0"
      },
      "execution_count": 8,
      "outputs": []
    },
    {
      "cell_type": "code",
      "source": [
        "def runExtractor(soup,filename='PicksBans.csv'):\n",
        "  pBans = pickBans(soup)\n",
        "  teams,banA,banB,pickA,pickB,decider = picksBansFiltrado(pBans) #Picks & Bans filter\n",
        "  header, teamA, teamB = picksBansCsv(teams,banA,banB,pickA,pickB,decider) #header, teamA and teamB\n",
        "  mapasJuntos = [pickA[0],pickB[0],decider[0]]\n",
        "  return header, teamA, teamB, mapasJuntos"
      ],
      "metadata": {
        "id": "Ez0e9J0evSWp"
      },
      "execution_count": 9,
      "outputs": []
    },
    {
      "cell_type": "code",
      "source": [
        "def linkExtractor(url):\n",
        "  \"\"\"With the url from matches all in vlr, create a list of links with\n",
        "  all the matches.\n",
        "  \"\"\"\n",
        "  toGather = []\n",
        "  page = urlopen(url)\n",
        "  html = page.read().decode(\"utf-8\")\n",
        "  soup = BeautifulSoup(html, \"html.parser\")\n",
        "  topLink = soup.find_all('a',class_='wf-module-item match-item mod-color mod-left mod-bg-after-striped_purple mod-first')\n",
        "  bottomlink = soup.find_all('a',class_='wf-module-item match-item mod-color mod-left mod-bg-after-striped_purple')\n",
        "  for link in topLink:\n",
        "    toGather.append(\"https://www.vlr.gg\"+link['href'])\n",
        "  for link in bottomlink:\n",
        "    toGather.append(\"https://www.vlr.gg\"+link['href'])\n",
        "  return toGather"
      ],
      "metadata": {
        "id": "Et-SlYMPyqOR"
      },
      "execution_count": 10,
      "outputs": []
    },
    {
      "cell_type": "code",
      "source": [
        "def serialExtractor(url):\n",
        "  page = urlopen(url)\n",
        "  html = page.read().decode(\"utf-8\")\n",
        "  soup = BeautifulSoup(html, \"html.parser\")\n",
        "  rows = {\"team\":[],\n",
        "            \"rival\":[],\n",
        "            \"map\":[],\n",
        "            \"own_pistol_tt\":[],\n",
        "            \"own_pistol_ct\":[],\n",
        "            \"own_score_tt\":[],\n",
        "            \"rival_score_tt\":[],\n",
        "            \"own_score_ct\":[],\n",
        "            \"rival_score_ct\":[]}\n",
        "  header, teamA, teamB, mapasJuntos = runExtractor(soup)\n",
        "  writeFunction(fileName,teamA,teamB)\n",
        "\n",
        "  rowInfo = extraerScore(soup,mapasJuntos,rows)\n",
        "  dictWritter(fileNameDict,rowInfo)\n",
        "  time.sleep(random.randint(1, 3)) #Sleep de 1 a 3 sec para no floodear la pagina"
      ],
      "metadata": {
        "id": "C2-1fPqb0z6C"
      },
      "execution_count": 16,
      "outputs": []
    },
    {
      "cell_type": "code",
      "source": [
        "urlLinks = \"https://www.vlr.gg/event/matches/1924/champions-tour-2024-pacific-kickoff/?series_id=all\"\n",
        "toExtract = linkExtractor(urlLinks)"
      ],
      "metadata": {
        "id": "EsslkZi61RP-"
      },
      "execution_count": 18,
      "outputs": []
    },
    {
      "cell_type": "code",
      "source": [
        "toExtract.remove(\"https://www.vlr.gg/297258/paper-rex-vs-gen-g-champions-tour-2024-pacific-kickoff-playoffs-gf\")"
      ],
      "metadata": {
        "id": "zSo4jvGb5UEZ"
      },
      "execution_count": 26,
      "outputs": []
    },
    {
      "cell_type": "code",
      "source": [
        "toExtract"
      ],
      "metadata": {
        "colab": {
          "base_uri": "https://localhost:8080/"
        },
        "id": "XbnYt5UdTKx4",
        "outputId": "f9c48492-8ad7-4e6e-f0ee-4d499f06083c"
      },
      "execution_count": 27,
      "outputs": [
        {
          "output_type": "execute_result",
          "data": {
            "text/plain": [
              "['https://www.vlr.gg/296735/t1-vs-bleed-champions-tour-2024-pacific-kickoff-opening-a',\n",
              " 'https://www.vlr.gg/296730/zeta-division-vs-global-esports-champions-tour-2024-pacific-kickoff-opening-a',\n",
              " 'https://www.vlr.gg/296747/gen-g-vs-paper-rex-champions-tour-2024-pacific-kickoff-winners-c',\n",
              " 'https://www.vlr.gg/296733/detonation-focusme-vs-team-secret-champions-tour-2024-pacific-kickoff-elim-b',\n",
              " 'https://www.vlr.gg/296749/gen-g-vs-rex-regum-qeon-champions-tour-2024-pacific-kickoff-decider-c',\n",
              " 'https://www.vlr.gg/297254/team-secret-vs-gen-g-champions-tour-2024-pacific-kickoff-play-ins',\n",
              " 'https://www.vlr.gg/297256/t1-vs-paper-rex-champions-tour-2024-pacific-kickoff-playoffs-sf',\n",
              " 'https://www.vlr.gg/296745/gen-g-vs-rex-regum-qeon-champions-tour-2024-pacific-kickoff-opening-c',\n",
              " 'https://www.vlr.gg/296731/team-secret-vs-talon-esports-champions-tour-2024-pacific-kickoff-opening-b',\n",
              " 'https://www.vlr.gg/296736/drx-vs-detonation-focusme-champions-tour-2024-pacific-kickoff-opening-b',\n",
              " 'https://www.vlr.gg/296738/bleed-vs-global-esports-champions-tour-2024-pacific-kickoff-elim-a',\n",
              " 'https://www.vlr.gg/296737/t1-vs-zeta-division-champions-tour-2024-pacific-kickoff-winners-a',\n",
              " 'https://www.vlr.gg/296732/drx-vs-talon-esports-champions-tour-2024-pacific-kickoff-winners-b',\n",
              " 'https://www.vlr.gg/296734/talon-esports-vs-team-secret-champions-tour-2024-pacific-kickoff-decider-b',\n",
              " 'https://www.vlr.gg/296739/zeta-division-vs-global-esports-champions-tour-2024-pacific-kickoff-decider-a',\n",
              " 'https://www.vlr.gg/297253/zeta-division-vs-team-secret-champions-tour-2024-pacific-kickoff-play-ins',\n",
              " 'https://www.vlr.gg/297255/gen-g-vs-zeta-division-champions-tour-2024-pacific-kickoff-play-ins',\n",
              " 'https://www.vlr.gg/297257/drx-vs-gen-g-champions-tour-2024-pacific-kickoff-playoffs-sf']"
            ]
          },
          "metadata": {},
          "execution_count": 27
        }
      ]
    },
    {
      "cell_type": "code",
      "source": [
        "#Preparación del bloque para correr el for\n",
        "fileName = 'picksBans.csv'\n",
        "fileNameDict='StatsMaps.csv'\n",
        "header = [\"team\",\"ban1\",\"ban2\",\"le ban1\",\"le ban2\",\"pick1\",\"decider\",\"order\"]\n",
        "rows = {\"team\":[],\n",
        "           \"rival\":[],\n",
        "           \"map\":[],\n",
        "           \"own_pistol_tt\":[],\n",
        "           \"own_pistol_ct\":[],\n",
        "           \"own_score_tt\":[],\n",
        "           \"rival_score_tt\":[],\n",
        "           \"own_score_ct\":[],\n",
        "           \"rival_score_ct\":[]}\n",
        "createCsvPicks(fileName,header)\n",
        "createCsvDict(fileNameDict,rows)"
      ],
      "metadata": {
        "id": "m4pIcABv1gTp"
      },
      "execution_count": 28,
      "outputs": []
    },
    {
      "cell_type": "code",
      "source": [
        "#Aca arranca el for (probablemente se pueda optimizar y no es necesario correr en bucle limpiar las rows y pasar al csv)\n",
        "#Problemas: Cuando en la lista de links no estan todos los partidos jugados\n",
        "#Problemas: bo5 rompe picks y bans y no salen todos los tats\n",
        "for dire in toExtract:\n",
        "  serialExtractor(dire)"
      ],
      "metadata": {
        "colab": {
          "base_uri": "https://localhost:8080/"
        },
        "id": "sZ2aT5CfOvMl",
        "outputId": "80e5e088-baa0-4e3a-87e5-0ea0e3b5e4ad"
      },
      "execution_count": 29,
      "outputs": [
        {
          "output_type": "stream",
          "name": "stdout",
          "text": [
            "['team', 'ban1', 'ban2', 'le ban1', 'le ban2', 'pick1', 'decider', 'order'] ['BLD', 'Ascent', 'Sunset', 'Icebox', 'Bind', 'Breeze', 'Split', 'A'] ['T1', 'Icebox', 'Bind', 'Ascent', 'Sunset', 'Lotus', 'Split', 'B'] ['Breeze', 'Lotus', 'Split']\n",
            "{'team': ['T1', 'T1', 'T1'], 'rival': ['BLEED', 'BLEED', 'BLEED'], 'map': ['Breeze', 'Lotus', 'Split'], 'own_pistol_tt': [0, 0, 1], 'own_pistol_ct': [0, 0, 0], 'own_score_tt': ['6', '9', 0], 'rival_score_tt': ['6', '3', 0], 'own_score_ct': ['6', '4', 0], 'rival_score_ct': ['6', '3', 0]}\n",
            "['team', 'ban1', 'ban2', 'le ban1', 'le ban2', 'pick1', 'decider', 'order'] ['GE', 'Lotus', 'Ascent', 'Breeze', 'Split', 'Bind', 'Sunset', 'A'] ['ZETA', 'Breeze', 'Split', 'Lotus', 'Ascent', 'Icebox', 'Sunset', 'B'] ['Bind', 'Icebox', 'Sunset']\n",
            "{'team': ['ZETA DIVISION', 'ZETA DIVISION', 'ZETA DIVISION'], 'rival': ['Global Esports', 'Global Esports', 'Global Esports'], 'map': ['Bind', 'Icebox', 'Sunset'], 'own_pistol_tt': [0, 1, 0], 'own_pistol_ct': [1, 1, 0], 'own_score_tt': ['6', '7', 0], 'rival_score_tt': ['5', '6', 0], 'own_score_ct': ['7', '6', 0], 'rival_score_ct': ['5', '1', 0]}\n",
            "['team', 'ban1', 'ban2', 'le ban1', 'le ban2', 'pick1', 'decider', 'order'] ['GEN', 'Split', 'Bind', 'Icebox', 'Ascent', 'Breeze', 'Sunset', 'A'] ['PRX', 'Icebox', 'Ascent', 'Split', 'Bind', 'Lotus', 'Sunset', 'B'] ['Breeze', 'Lotus', 'Sunset']\n",
            "{'team': ['Gen.G', 'Gen.G', 'Gen.G'], 'rival': ['Paper Rex', 'Paper Rex', 'Paper Rex'], 'map': ['Breeze', 'Lotus', 'Sunset'], 'own_pistol_tt': [0, 0, 0], 'own_pistol_ct': [1, 1, 1], 'own_score_tt': ['7', '5', '2'], 'rival_score_tt': ['6', '6', '3'], 'own_score_ct': ['6', '5', '5'], 'rival_score_ct': ['4', '7', '10']}\n",
            "['team', 'ban1', 'ban2', 'le ban1', 'le ban2', 'pick1', 'decider', 'order'] ['DFM', 'Icebox', 'Sunset', 'Split', 'Bind', 'Lotus', 'Ascent', 'A'] ['TS', 'Split', 'Bind', 'Icebox', 'Sunset', 'Breeze', 'Ascent', 'B'] ['Lotus', 'Breeze', 'Ascent']\n",
            "{'team': ['DetonatioN FocusMe', 'DetonatioN FocusMe', 'DetonatioN FocusMe'], 'rival': ['Team Secret', 'Team Secret', 'Team Secret'], 'map': ['Lotus', 'Breeze', 'Ascent'], 'own_pistol_tt': [0, 1, 0], 'own_pistol_ct': [0, 1, 0], 'own_score_tt': ['4', '5', 0], 'rival_score_tt': ['9', '6', 0], 'own_score_ct': ['3', '6', 0], 'rival_score_ct': ['4', '7', 0]}\n",
            "['team', 'ban1', 'ban2', 'le ban1', 'le ban2', 'pick1', 'decider', 'order'] ['RRQ', 'Ascent', 'Sunset', 'Bind', 'Split', 'Lotus', 'Icebox', 'A'] ['GEN', 'Bind', 'Split', 'Ascent', 'Sunset', 'Breeze', 'Icebox', 'B'] ['Lotus', 'Breeze', 'Icebox']\n",
            "{'team': ['Gen.G', 'Gen.G', 'Gen.G'], 'rival': ['Rex Regum Qeon', 'Rex Regum Qeon', 'Rex Regum Qeon'], 'map': ['Lotus', 'Breeze', 'Icebox'], 'own_pistol_tt': [1, 0, 1], 'own_pistol_ct': [1, 0, 1], 'own_score_tt': ['5', '7', '8'], 'rival_score_tt': ['0', '9', '7'], 'own_score_ct': ['8', '3', '5'], 'rival_score_ct': ['7', '4', '4']}\n",
            "['team', 'ban1', 'ban2', 'le ban1', 'le ban2', 'pick1', 'decider', 'order'] ['TS', 'Split', 'Bind', 'Ascent', 'Sunset', 'Breeze', 'Icebox', 'A'] ['GEN', 'Ascent', 'Sunset', 'Split', 'Bind', 'Lotus', 'Icebox', 'B'] ['Breeze', 'Lotus', 'Icebox']\n",
            "{'team': ['Team Secret', 'Team Secret', 'Team Secret'], 'rival': ['Gen.G', 'Gen.G', 'Gen.G'], 'map': ['Breeze', 'Lotus', 'Icebox'], 'own_pistol_tt': [1, 1, 0], 'own_pistol_ct': [0, 0, 1], 'own_score_tt': ['5', '8', '4'], 'rival_score_tt': ['4', '9', '4'], 'own_score_ct': ['8', '1', '8'], 'rival_score_ct': ['1', '4', '8']}\n",
            "['team', 'ban1', 'ban2', 'le ban1', 'le ban2', 'pick1', 'decider', 'order'] ['PRX', 'Breeze', 'Bind', 'Icebox', 'Lotus', 'Split', 'Sunset', 'A'] ['T1', 'Icebox', 'Lotus', 'Breeze', 'Bind', 'Ascent', 'Sunset', 'B'] ['Split', 'Ascent', 'Sunset']\n",
            "{'team': ['T1', 'T1', 'T1'], 'rival': ['Paper Rex', 'Paper Rex', 'Paper Rex'], 'map': ['Split', 'Ascent', 'Sunset'], 'own_pistol_tt': [1, 0, 0], 'own_pistol_ct': [0, 0, 0], 'own_score_tt': ['8', '2', 0], 'rival_score_tt': ['8', '8', 0], 'own_score_ct': ['4', '4', 0], 'rival_score_ct': ['4', '5', 0]}\n",
            "['team', 'ban1', 'ban2', 'le ban1', 'le ban2', 'pick1', 'decider', 'order'] ['RRQ', 'Ascent', 'Lotus', 'Bind', 'Breeze', 'Icebox', 'Sunset', 'A'] ['GEN', 'Bind', 'Breeze', 'Ascent', 'Lotus', 'Split', 'Sunset', 'B'] ['Icebox', 'Split', 'Sunset']\n",
            "{'team': ['Gen.G', 'Gen.G', 'Gen.G'], 'rival': ['Rex Regum Qeon', 'Rex Regum Qeon', 'Rex Regum Qeon'], 'map': ['Icebox', 'Split', 'Sunset'], 'own_pistol_tt': [0, 0, 1], 'own_pistol_ct': [1, 1, 0], 'own_score_tt': ['6', '2', '5'], 'rival_score_tt': ['5', '3', '4'], 'own_score_ct': ['7', '9', '8'], 'rival_score_ct': ['6', '10', '4']}\n",
            "['team', 'ban1', 'ban2', 'le ban1', 'le ban2', 'pick1', 'decider', 'order'] ['TLN', 'Icebox', 'Bind', 'Split', 'Lotus', 'Breeze', 'Sunset', 'A'] ['TS', 'Split', 'Lotus', 'Icebox', 'Bind', 'Ascent', 'Sunset', 'B'] ['Breeze', 'Ascent', 'Sunset']\n",
            "{'team': ['Team Secret', 'Team Secret', 'Team Secret'], 'rival': ['Talon Esports', 'Talon Esports', 'Talon Esports'], 'map': ['Breeze', 'Ascent', 'Sunset'], 'own_pistol_tt': [0, 0, 0], 'own_pistol_ct': [1, 0, 0], 'own_score_tt': ['3', '3', 0], 'rival_score_tt': ['4', '4', 0], 'own_score_ct': ['5', '0', 0], 'rival_score_ct': ['9', '9', 0]}\n",
            "['team', 'ban1', 'ban2', 'le ban1', 'le ban2', 'pick1', 'decider', 'order'] ['DFM', 'Icebox', 'Split', 'Sunset', 'Ascent', 'Lotus', 'Bind', 'A'] ['DRX', 'Sunset', 'Ascent', 'Icebox', 'Split', 'Breeze', 'Bind', 'B'] ['Lotus', 'Breeze', 'Bind']\n",
            "{'team': ['DRX', 'DRX', 'DRX'], 'rival': ['DetonatioN FocusMe', 'DetonatioN FocusMe', 'DetonatioN FocusMe'], 'map': ['Lotus', 'Breeze', 'Bind'], 'own_pistol_tt': [1, 1, 0], 'own_pistol_ct': [1, 1, 0], 'own_score_tt': ['6', '5', 0], 'rival_score_tt': ['5', '4', 0], 'own_score_ct': ['7', '8', 0], 'rival_score_ct': ['3', '4', 0]}\n",
            "['team', 'ban1', 'ban2', 'le ban1', 'le ban2', 'pick1', 'decider', 'order'] ['GE', 'Lotus', 'Breeze', 'Ascent', 'Bind', 'Sunset', 'Split', 'A'] ['BLD', 'Ascent', 'Bind', 'Lotus', 'Breeze', 'Icebox', 'Split', 'B'] ['Sunset', 'Icebox', 'Split']\n",
            "{'team': ['BLEED', 'BLEED', 'BLEED'], 'rival': ['Global Esports', 'Global Esports', 'Global Esports'], 'map': ['Sunset', 'Icebox', 'Split'], 'own_pistol_tt': [0, 1, 1], 'own_pistol_ct': [0, 1, 0], 'own_score_tt': ['4', '9', '7'], 'rival_score_tt': ['7', '8', '8'], 'own_score_ct': ['5', '4', '4'], 'rival_score_ct': ['6', '2', '5']}\n",
            "['team', 'ban1', 'ban2', 'le ban1', 'le ban2', 'pick1', 'decider', 'order'] ['ZETA', 'Breeze', 'Split', 'Icebox', 'Bind', 'Ascent', 'Sunset', 'A'] ['T1', 'Icebox', 'Bind', 'Breeze', 'Split', 'Lotus', 'Sunset', 'B'] ['Ascent', 'Lotus', 'Sunset']\n",
            "{'team': ['T1', 'T1', 'T1'], 'rival': ['ZETA DIVISION', 'ZETA DIVISION', 'ZETA DIVISION'], 'map': ['Ascent', 'Lotus', 'Sunset'], 'own_pistol_tt': [0, 1, 0], 'own_pistol_ct': [0, 0, 1], 'own_score_tt': ['6', '4', '5'], 'rival_score_tt': ['7', '3', '4'], 'own_score_ct': ['5', '9', '8'], 'rival_score_ct': ['6', '1', '3']}\n",
            "['team', 'ban1', 'ban2', 'le ban1', 'le ban2', 'pick1', 'decider', 'order'] ['DRX', 'Lotus', 'Sunset', 'Bind', 'Icebox', 'Split', 'Breeze', 'A'] ['TLN', 'Bind', 'Icebox', 'Lotus', 'Sunset', 'Ascent', 'Breeze', 'B'] ['Split', 'Ascent', 'Breeze']\n",
            "{'team': ['DRX', 'DRX', 'DRX'], 'rival': ['Talon Esports', 'Talon Esports', 'Talon Esports'], 'map': ['Split', 'Ascent', 'Breeze'], 'own_pistol_tt': [1, 0, 0], 'own_pistol_ct': [0, 1, 0], 'own_score_tt': ['8', '7', 0], 'rival_score_tt': ['6', '6', 0], 'own_score_ct': ['5', '6', 0], 'rival_score_ct': ['4', '2', 0]}\n",
            "['team', 'ban1', 'ban2', 'le ban1', 'le ban2', 'pick1', 'decider', 'order'] ['TS', 'Split', 'Bind', 'Icebox', 'Sunset', 'Breeze', 'Lotus', 'A'] ['TLN', 'Icebox', 'Sunset', 'Split', 'Bind', 'Ascent', 'Lotus', 'B'] ['Breeze', 'Ascent', 'Lotus']\n",
            "{'team': ['Talon Esports', 'Talon Esports', 'Talon Esports'], 'rival': ['Team Secret', 'Team Secret', 'Team Secret'], 'map': ['Breeze', 'Ascent', 'Lotus'], 'own_pistol_tt': [0, 1, 0], 'own_pistol_ct': [1, 0, 0], 'own_score_tt': ['4', '7', 0], 'rival_score_tt': ['5', '8', 0], 'own_score_ct': ['4', '0', 0], 'rival_score_ct': ['8', '5', 0]}\n",
            "['team', 'ban1', 'ban2', 'le ban1', 'le ban2', 'pick1', 'decider', 'order'] ['GE', 'Icebox', 'Ascent', 'Breeze', 'Split', 'Bind', 'Sunset', 'A'] ['ZETA', 'Breeze', 'Split', 'Icebox', 'Ascent', 'Lotus', 'Sunset', 'B'] ['Bind', 'Lotus', 'Sunset']\n",
            "{'team': ['ZETA DIVISION', 'ZETA DIVISION', 'ZETA DIVISION'], 'rival': ['Global Esports', 'Global Esports', 'Global Esports'], 'map': ['Bind', 'Lotus', 'Sunset'], 'own_pistol_tt': [0, 1, 0], 'own_pistol_ct': [1, 1, 0], 'own_score_tt': ['5', '9', 0], 'rival_score_tt': ['4', '0', 0], 'own_score_ct': ['8', '4', 0], 'rival_score_ct': ['4', '3', 0]}\n",
            "['team', 'ban1', 'ban2', 'le ban1', 'le ban2', 'pick1', 'decider', 'order'] ['TS', 'Split', 'Bind', 'Breeze', 'Sunset', 'Icebox', 'Lotus', 'A'] ['ZETA', 'Breeze', 'Sunset', 'Split', 'Bind', 'Ascent', 'Lotus', 'B'] ['Icebox', 'Ascent', 'Lotus']\n",
            "{'team': ['ZETA DIVISION', 'ZETA DIVISION', 'ZETA DIVISION'], 'rival': ['Team Secret', 'Team Secret', 'Team Secret'], 'map': ['Icebox', 'Ascent', 'Lotus'], 'own_pistol_tt': [0, 1, 0], 'own_pistol_ct': [0, 0, 0], 'own_score_tt': ['0', '7', 0], 'rival_score_tt': ['11', '8', 0], 'own_score_ct': ['1', '1', 0], 'rival_score_ct': ['2', '5', 0]}\n",
            "['team', 'ban1', 'ban2', 'le ban1', 'le ban2', 'pick1', 'decider', 'order'] ['GEN', 'Bind', 'Sunset', 'Breeze', 'Split', 'Icebox', 'Lotus', 'A'] ['ZETA', 'Breeze', 'Split', 'Bind', 'Sunset', 'Ascent', 'Lotus', 'B'] ['Icebox', 'Ascent', 'Lotus']\n",
            "{'team': ['Gen.G', 'Gen.G', 'Gen.G'], 'rival': ['ZETA DIVISION', 'ZETA DIVISION', 'ZETA DIVISION'], 'map': ['Icebox', 'Ascent', 'Lotus'], 'own_pistol_tt': [1, 0, 0], 'own_pistol_ct': [0, 1, 0], 'own_score_tt': ['8', '3', 0], 'rival_score_tt': ['2', '2', 0], 'own_score_ct': ['5', '10', 0], 'rival_score_ct': ['4', '2', 0]}\n",
            "['team', 'ban1', 'ban2', 'le ban1', 'le ban2', 'pick1', 'decider', 'order'] ['DRX', 'Icebox', 'Split', 'Breeze', 'Sunset', 'Bind', 'Ascent', 'A'] ['GEN', 'Breeze', 'Sunset', 'Icebox', 'Split', 'Lotus', 'Ascent', 'B'] ['Bind', 'Lotus', 'Ascent']\n",
            "{'team': ['DRX', 'DRX', 'DRX'], 'rival': ['Gen.G', 'Gen.G', 'Gen.G'], 'map': ['Bind', 'Lotus', 'Ascent'], 'own_pistol_tt': [1, 0, 0], 'own_pistol_ct': [1, 0, 0], 'own_score_tt': ['7', '5', 0], 'rival_score_tt': ['7', '9', 0], 'own_score_ct': ['5', '3', 0], 'rival_score_ct': ['5', '4', 0]}\n"
          ]
        }
      ]
    },
    {
      "cell_type": "code",
      "source": [
        "rows = {\"team\":[],\n",
        "           \"rival\":[],\n",
        "           \"map\":[],\n",
        "           \"own_pistol_tt\":[],\n",
        "           \"own_pistol_ct\":[],\n",
        "           \"own_score_tt\":[],\n",
        "           \"rival_score_tt\":[],\n",
        "           \"own_score_ct\":[],\n",
        "           \"rival_score_ct\":[]} #for the Dicc"
      ],
      "metadata": {
        "id": "lezR4UjBezOv"
      },
      "execution_count": null,
      "outputs": []
    },
    {
      "cell_type": "code",
      "source": [
        "#Webscraping\n",
        "\"\"\"\n",
        "Test de funcionamiento\n",
        "Try con una pagina y ver elementos estructurales.\n",
        "Buscar escalablidad del proceso y evaluar funciones necesarias\n",
        "\"\"\"\n",
        "\n",
        "#https://www.vlr.gg/307572/mibr-vs-sentinels-champions-tour-2024-americas-kickoff-play-ins\n",
        "#https://www.vlr.gg/303087/evil-geniuses-vs-loud-champions-tour-2024-americas-kickoff-sf\n",
        "\n",
        "url = \"https://www.vlr.gg/307572/mibr-vs-sentinels-champions-tour-2024-americas-kickoff-play-ins\"\n",
        "page = urlopen(url)\n",
        "html = page.read().decode(\"utf-8\")\n",
        "soup = BeautifulSoup(html, \"html.parser\")"
      ],
      "metadata": {
        "id": "KrouWSwnseTd"
      },
      "execution_count": null,
      "outputs": []
    },
    {
      "cell_type": "code",
      "source": [
        "#Running the functions\n",
        "teams,banA,banB,pickA,pickB,decider = picksBansFiltrado(soup)\n",
        "\n",
        "header, teamA, teamB = picksBansCsv(teams,banA,banB,pickA,pickB,decider)\n",
        "\n",
        "mapasJuntos = [pickA[0],pickB[0],decider[0]]\n",
        "mapasJuntos"
      ],
      "metadata": {
        "id": "JFcKLMtf4806",
        "colab": {
          "base_uri": "https://localhost:8080/"
        },
        "outputId": "d5a18c6b-8d98-403f-fcc6-18076425436c"
      },
      "execution_count": null,
      "outputs": [
        {
          "output_type": "execute_result",
          "data": {
            "text/plain": [
              "['Split', 'Ascent', 'Sunset']"
            ]
          },
          "metadata": {},
          "execution_count": 19
        }
      ]
    },
    {
      "cell_type": "code",
      "source": [
        "#Bloque para correr con el for\n",
        "fileName = 'picksBans.csv'\n",
        "fileNameDict='StatsMaps.csv'\n",
        "header = [\"team\",\"ban1\",\"ban2\",\"le ban1\",\"le ban2\",\"pick1\",\"decider\",\"order\"]\n",
        "\n",
        "createCsvPicks(fileName,header)\n",
        "createCsvDict(fileNameDict,rows)\n",
        "#Aca arranca el for (probablemente se pueda optimizar y no es necesario correr en bucle limpiar las rows y pasar al csv)"
      ],
      "metadata": {
        "id": "_fk-k20yzOqT"
      },
      "execution_count": null,
      "outputs": []
    },
    {
      "cell_type": "code",
      "source": [],
      "metadata": {
        "colab": {
          "base_uri": "https://localhost:8080/"
        },
        "id": "Z1nUFj6IBWC2",
        "outputId": "271dacc1-7f2e-4f60-9457-6e65f2982025"
      },
      "execution_count": null,
      "outputs": [
        {
          "output_type": "execute_result",
          "data": {
            "text/plain": [
              "['https://www.vlr.gg/295605/nrg-esports-vs-furia-champions-tour-2024-americas-kickoff-opening-a',\n",
              " 'https://www.vlr.gg/295610/loud-vs-sentinels-champions-tour-2024-americas-kickoff-opening-b']"
            ]
          },
          "metadata": {},
          "execution_count": 56
        }
      ]
    },
    {
      "cell_type": "code",
      "source": [
        "for dire in restricto:\n",
        "  url = dire\n",
        "  page = urlopen(url)\n",
        "  html = page.read().decode(\"utf-8\")\n",
        "  soup = BeautifulSoup(html, \"html.parser\")\n",
        "  rows = {\"team\":[],\n",
        "            \"rival\":[],\n",
        "            \"map\":[],\n",
        "            \"own_pistol_tt\":[],\n",
        "            \"own_pistol_ct\":[],\n",
        "            \"own_score_tt\":[],\n",
        "            \"rival_score_tt\":[],\n",
        "            \"own_score_ct\":[],\n",
        "            \"rival_score_ct\":[]}\n",
        "\n",
        "  header, teamA, teamB, mapasJuntos = runExtractor(soup)\n",
        "  writeFunction(fileName,teamA,teamB)\n",
        "  rowInfo = extraerScore(soup,mapasJuntos,rows)\n",
        "  dictWritter(fileNameDict,rowInfo)\n",
        "  time.sleep(random.randint(1, 3)) #Sleep de 1 a 3 sec para no floodear la pagina\n"
      ],
      "metadata": {
        "id": "3eSEOANE3tzQ",
        "colab": {
          "base_uri": "https://localhost:8080/"
        },
        "outputId": "e90b1d4d-08c6-426b-d61c-19ed0b8e5617"
      },
      "execution_count": null,
      "outputs": [
        {
          "output_type": "stream",
          "name": "stdout",
          "text": [
            "['Breeze', 'Ascent', 'Split']\n",
            "{'team': ['NRG Esports', 'NRG Esports', 'NRG Esports'], 'rival': ['FURIA', 'FURIA', 'FURIA'], 'map': ['Breeze', 'Ascent', 'Split'], 'own_pistol_tt': [0, 1, 0], 'own_pistol_ct': [0, 0, 0], 'own_score_tt': ['5', '6', 0], 'rival_score_tt': ['4', '2', 0], 'own_score_ct': ['8', '7', 0], 'rival_score_ct': ['6', '6', 0]}\n",
            "['Split', 'Ascent', 'Sunset']\n",
            "{'team': ['LOUD', 'LOUD', 'LOUD'], 'rival': ['Sentinels', 'Sentinels', 'Sentinels'], 'map': ['Split', 'Ascent', 'Sunset'], 'own_pistol_tt': [0, 1, 0], 'own_pistol_ct': [1, 1, 0], 'own_score_tt': ['4', '5', 0], 'rival_score_tt': ['3', '2', 0], 'own_score_ct': ['9', '8', 0], 'rival_score_ct': ['8', '7', 0]}\n"
          ]
        }
      ]
    },
    {
      "cell_type": "code",
      "source": [
        "rows = {\"team\":[],\n",
        "          \"rival\":[],\n",
        "          \"map\":[],\n",
        "          \"own_pistol_tt\":[],\n",
        "          \"own_pistol_ct\":[],\n",
        "          \"own_score_tt\":[],\n",
        "          \"rival_score_tt\":[],\n",
        "          \"own_score_ct\":[],\n",
        "          \"rival_score_ct\":[]}\n",
        "\n",
        "rowInfo = extraerScore(soup,mapasJuntos,rows)"
      ],
      "metadata": {
        "id": "3QDBlinTo2Cz"
      },
      "execution_count": null,
      "outputs": []
    },
    {
      "cell_type": "code",
      "source": [
        "rowInfo"
      ],
      "metadata": {
        "colab": {
          "base_uri": "https://localhost:8080/"
        },
        "id": "Uq_xu_FwvJLp",
        "outputId": "5d4c1dd0-3bfd-4f69-f330-28f79aceb773"
      },
      "execution_count": null,
      "outputs": [
        {
          "output_type": "execute_result",
          "data": {
            "text/plain": [
              "{'team': ['NRG Esports', 'NRG Esports', 'NRG Esports'],\n",
              " 'rival': ['FURIA', 'FURIA', 'FURIA'],\n",
              " 'map': ['Breeze', 'Ascent', 'Split'],\n",
              " 'own_pistol_tt': [0, 1, 0],\n",
              " 'own_pistol_ct': [0, 0, 0],\n",
              " 'own_score_tt': ['5', '6', 0],\n",
              " 'rival_score_tt': ['4', '2', 0],\n",
              " 'own_score_ct': ['8', '7', 0],\n",
              " 'rival_score_ct': ['6', '6', 0]}"
            ]
          },
          "metadata": {},
          "execution_count": 54
        }
      ]
    },
    {
      "cell_type": "code",
      "source": [
        "rowInfo = extraerScore(soup,mapasJuntos,rows) #Crea el archivo\n"
      ],
      "metadata": {
        "id": "QwRhlnT7Ra9K"
      },
      "execution_count": null,
      "outputs": []
    },
    {
      "cell_type": "code",
      "source": [
        "rowInfo"
      ],
      "metadata": {
        "colab": {
          "base_uri": "https://localhost:8080/"
        },
        "id": "Leq-Wa1YunSj",
        "outputId": "365be51d-beae-44cd-e010-74642509c5c3"
      },
      "execution_count": null,
      "outputs": [
        {
          "output_type": "execute_result",
          "data": {
            "text/plain": [
              "{'team': ['MIBR', 'MIBR', 'MIBR'],\n",
              " 'rival': ['Sentinels', 'Sentinels', 'Sentinels'],\n",
              " 'map': ['Ascent', 'Icebox', 'Sunset'],\n",
              " 'own_pistol_tt': [0, 1, 0],\n",
              " 'own_pistol_ct': [1, 0, 0],\n",
              " 'own_score_tt': ['2', '5', 0],\n",
              " 'rival_score_tt': ['3', '6', 0],\n",
              " 'own_score_ct': ['5', '1', 0],\n",
              " 'rival_score_ct': ['10', '7', 0]}"
            ]
          },
          "metadata": {},
          "execution_count": 342
        }
      ]
    },
    {
      "cell_type": "code",
      "source": [
        "#Intento de extraccion de links generales\n",
        "#url de los matches del evento, con all. Ejemplo: https://www.vlr.gg/event/matches/1923/champions-tour-2024-americas-kickoff/?series_id=all\n",
        "url = \"https://www.vlr.gg/event/matches/1923/champions-tour-2024-americas-kickoff/?series_id=all\"\n",
        "page = urlopen(url)\n",
        "html = page.read().decode(\"utf-8\")\n",
        "soup = BeautifulSoup(html, \"html.parser\")"
      ],
      "metadata": {
        "id": "KYNlJOPVNcoS"
      },
      "execution_count": null,
      "outputs": []
    },
    {
      "cell_type": "code",
      "source": [
        "topLink = soup.find_all('a',class_='wf-module-item match-item mod-color mod-left mod-bg-after-striped_purple mod-first')\n",
        "bottomlink = soup.find_all('a',class_='wf-module-item match-item mod-color mod-left mod-bg-after-striped_purple')"
      ],
      "metadata": {
        "id": "8_geak5Kcdgp"
      },
      "execution_count": null,
      "outputs": []
    },
    {
      "cell_type": "code",
      "source": [
        "toGather = []\n",
        "for link in topLink:\n",
        "  toGather.append(\"https://www.vlr.gg\"+link['href'])\n",
        "\n",
        "for link in bottomlink:\n",
        "  toGather.append(\"https://www.vlr.gg\"+link['href'])"
      ],
      "metadata": {
        "id": "Ee6gVWFEjAzN"
      },
      "execution_count": null,
      "outputs": []
    },
    {
      "cell_type": "code",
      "source": [
        "toGather"
      ],
      "metadata": {
        "colab": {
          "base_uri": "https://localhost:8080/"
        },
        "id": "vzSElzAwjazQ",
        "outputId": "18edb472-fedf-4e54-af79-b4c9bd537b61"
      },
      "execution_count": null,
      "outputs": [
        {
          "output_type": "execute_result",
          "data": {
            "text/plain": [
              "['https://www.vlr.gg/295605/nrg-esports-vs-furia-champions-tour-2024-americas-kickoff-opening-a',\n",
              " 'https://www.vlr.gg/295610/loud-vs-sentinels-champions-tour-2024-americas-kickoff-opening-b',\n",
              " 'https://www.vlr.gg/295615/kr-esports-vs-g2-esports-champions-tour-2024-americas-kickoff-opening-c',\n",
              " 'https://www.vlr.gg/295608/furia-vs-mibr-champions-tour-2024-americas-kickoff-elim-a',\n",
              " 'https://www.vlr.gg/295607/nrg-esports-vs-cloud9-champions-tour-2024-americas-kickoff-winners-a',\n",
              " 'https://www.vlr.gg/295617/g2-esports-vs-evil-geniuses-champions-tour-2024-americas-kickoff-winners-c',\n",
              " 'https://www.vlr.gg/295609/cloud9-vs-mibr-champions-tour-2024-americas-kickoff-decider-a',\n",
              " 'https://www.vlr.gg/307572/mibr-vs-sentinels-champions-tour-2024-americas-kickoff-play-ins',\n",
              " 'https://www.vlr.gg/303087/evil-geniuses-vs-loud-champions-tour-2024-americas-kickoff-sf',\n",
              " 'https://www.vlr.gg/303086/loud-vs-sentinels-champions-tour-2024-americas-kickoff-gf',\n",
              " 'https://www.vlr.gg/295606/cloud9-vs-mibr-champions-tour-2024-americas-kickoff-opening-a',\n",
              " 'https://www.vlr.gg/295611/leviat-n-vs-100-thieves-champions-tour-2024-americas-kickoff-opening-b',\n",
              " 'https://www.vlr.gg/295613/sentinels-vs-100-thieves-champions-tour-2024-americas-kickoff-elim-b',\n",
              " 'https://www.vlr.gg/295612/loud-vs-leviat-n-champions-tour-2024-americas-kickoff-winners-b',\n",
              " 'https://www.vlr.gg/295614/leviat-n-vs-sentinels-champions-tour-2024-americas-kickoff-decider-b',\n",
              " 'https://www.vlr.gg/295619/g2-esports-vs-kr-esports-champions-tour-2024-americas-kickoff-decider-c',\n",
              " 'https://www.vlr.gg/307573/g2-esports-vs-mibr-champions-tour-2024-americas-kickoff-play-ins',\n",
              " 'https://www.vlr.gg/307574/sentinels-vs-g2-esports-champions-tour-2024-americas-kickoff-play-ins',\n",
              " 'https://www.vlr.gg/303088/nrg-esports-vs-sentinels-champions-tour-2024-americas-kickoff-sf']"
            ]
          },
          "metadata": {},
          "execution_count": 24
        }
      ]
    },
    {
      "cell_type": "code",
      "source": [
        "picksBans = soup.find(\"div\",{\"class\":\"match-header-note\"}).get_text() #Extraccion del texto\n",
        "picksBans = picksBans.strip() #Remover los separados y espacios\n",
        "picksBans = picksBans.split(\";\")\n",
        "\n",
        "teams,banA,banB,pickA,pickB,decider = picksBansFiltrado(picksBans)\n",
        "\n",
        "header, teamA, teamB = picksBansCsv(teams,banA,banB,pickA,pickB,decider)\n",
        "\n",
        "mapasJuntos = [pickA[0],pickB[0],decider[0]]\n",
        "mapasJuntos"
      ],
      "metadata": {
        "colab": {
          "base_uri": "https://localhost:8080/"
        },
        "id": "ll4EZ4NIN-Lc",
        "outputId": "e2b33db9-8076-498b-a997-6732bbc900f7"
      },
      "execution_count": null,
      "outputs": [
        {
          "output_type": "execute_result",
          "data": {
            "text/plain": [
              "['Ascent', 'Icebox', 'Sunset']"
            ]
          },
          "metadata": {},
          "execution_count": 186
        }
      ]
    },
    {
      "cell_type": "code",
      "source": [
        "writeFunction(fileName,header,teamA,teamB)"
      ],
      "metadata": {
        "id": "0MhV4d_OQ-Rr"
      },
      "execution_count": null,
      "outputs": []
    },
    {
      "cell_type": "code",
      "source": [],
      "metadata": {
        "colab": {
          "base_uri": "https://localhost:8080/"
        },
        "id": "q0q5vNVqZo9q",
        "outputId": "24d7bd5c-cd7c-4326-f164-f9ef80016ed9"
      },
      "execution_count": null,
      "outputs": [
        {
          "output_type": "execute_result",
          "data": {
            "text/plain": [
              "[1, 14, 27, 40, 53, 66, 79, 92, 105, 118]"
            ]
          },
          "metadata": {},
          "execution_count": 61
        }
      ]
    },
    {
      "cell_type": "code",
      "source": [
        "#Scores (creo que no lo voy a usar)\n",
        "#\n",
        "scoreLeft = soup.find(\"div\",{\"style\":\"margin-right: 12px;\"}).get_text() #Extraccion del texto\n",
        "scoreLeft = scoreLeft.strip() #Remover los separados y espacios\n",
        "scoreLeft = scoreLeft.split(\";\")\n",
        "\n",
        "scoreRight = soup.find(\"div\",{\"style\":\"margin-left: 8px;\"}).get_text() #Extraccion del texto\n",
        "scoreRight = scoreRight.strip() #Remover los separados y espacios\n",
        "scoreRight = scoreRight.split(\";\")\n",
        "\n",
        "print(scoreLeft,scoreRight)"
      ],
      "metadata": {
        "id": "ACK0nMISFOGS",
        "colab": {
          "base_uri": "https://localhost:8080/"
        },
        "outputId": "d27145cc-49d9-4f5e-c7c7-04dc3dbc176f"
      },
      "execution_count": null,
      "outputs": [
        {
          "output_type": "stream",
          "name": "stdout",
          "text": [
            "['7'] ['13']\n"
          ]
        }
      ]
    },
    {
      "cell_type": "code",
      "source": [
        "pistolRounds(soup,3)"
      ],
      "metadata": {
        "id": "oB2H23i7c_DD"
      },
      "execution_count": null,
      "outputs": []
    },
    {
      "cell_type": "code",
      "source": [
        "rowInfo"
      ],
      "metadata": {
        "colab": {
          "base_uri": "https://localhost:8080/"
        },
        "id": "py9Bnbs0UYVm",
        "outputId": "a6d194da-f447-4a2c-c64c-6df69f824a44"
      },
      "execution_count": null,
      "outputs": [
        {
          "output_type": "execute_result",
          "data": {
            "text/plain": [
              "{'team': ['LOUD', 'LOUD', 'LOUD'],\n",
              " 'rival': ['Sentinels', 'Sentinels', 'Sentinels'],\n",
              " 'map': ['Split', 'Ascent', 'Sunset'],\n",
              " 'own_pistol_tt': [0],\n",
              " 'own_pistol_ct': [0],\n",
              " 'own_score_tt': ['4', '5', 0],\n",
              " 'rival_score_tt': ['3', '2', 0],\n",
              " 'own_score_ct': ['9', '8', 0],\n",
              " 'rival_score_ct': ['8', '7', 0]}"
            ]
          },
          "metadata": {},
          "execution_count": 34
        }
      ]
    },
    {
      "cell_type": "code",
      "source": [
        "filenameStats = \"mapStats.csv\" #File name of the stats\n"
      ],
      "metadata": {
        "id": "4kn-RvftK-Hr"
      },
      "execution_count": null,
      "outputs": []
    },
    {
      "cell_type": "code",
      "source": [
        "dictWritter(filenameStats,rowInfo)"
      ],
      "metadata": {
        "id": "rXtHiw2a6FoC"
      },
      "execution_count": null,
      "outputs": []
    },
    {
      "cell_type": "code",
      "source": [
        "with open(\"test.csv\", \"a\") as csvfile:\n",
        "\n",
        "    # pass the csv file to csv.writer function.\n",
        "    writer = csv.writer(csvfile)\n",
        "\n",
        "    # pass the dictionary keys to writerow\n",
        "    # function to frame the columns of the csv file\n",
        "    writer.writerow(rowInfo.keys())\n",
        "\n",
        "    # make use of writerows function to append\n",
        "    # the remaining values to the corresponding\n",
        "    # columns using zip function.\n",
        "    writer.writerows(zip(*rowInfo.values()))"
      ],
      "metadata": {
        "id": "FvaSTeX62MsU"
      },
      "execution_count": null,
      "outputs": []
    },
    {
      "cell_type": "markdown",
      "source": [],
      "metadata": {
        "id": "IjUIKrSf1r6J"
      }
    },
    {
      "cell_type": "code",
      "source": [
        "\n",
        "\n",
        "with open(filenameStats, 'a') as csvfile:\n",
        "    writer = csv.DictWriter(csvfile, fieldnames = rows)\n",
        "    writer.writeheader()\n",
        "    writer.writerows([rowInfo])\n",
        "    csvfile.close()\n",
        "\n"
      ],
      "metadata": {
        "id": "SEECU3IInmX7"
      },
      "execution_count": null,
      "outputs": []
    },
    {
      "cell_type": "code",
      "source": [
        "def dictWritter(filename=filenameStats,rows=rowInfo):\n",
        "      with open(filename, 'a') as csvfile:\n",
        "        writer.writeheader()\n",
        "        writer.writerows([rows])\n"
      ],
      "metadata": {
        "id": "pWumqLl-tnax"
      },
      "execution_count": null,
      "outputs": []
    },
    {
      "cell_type": "code",
      "source": [
        "dictWritter(filenameStats,rowInfo)"
      ],
      "metadata": {
        "colab": {
          "base_uri": "https://localhost:8080/",
          "height": 293
        },
        "id": "Qn88HmyVtdpO",
        "outputId": "8b19a303-c087-4592-fe65-e19ac7c62f93"
      },
      "execution_count": null,
      "outputs": [
        {
          "output_type": "error",
          "ename": "ValueError",
          "evalue": "I/O operation on closed file.",
          "traceback": [
            "\u001b[0;31m---------------------------------------------------------------------------\u001b[0m",
            "\u001b[0;31mValueError\u001b[0m                                Traceback (most recent call last)",
            "\u001b[0;32m<ipython-input-197-f93a03b802d3>\u001b[0m in \u001b[0;36m<cell line: 1>\u001b[0;34m()\u001b[0m\n\u001b[0;32m----> 1\u001b[0;31m \u001b[0mdictWritter\u001b[0m\u001b[0;34m(\u001b[0m\u001b[0mfilenameStats\u001b[0m\u001b[0;34m,\u001b[0m\u001b[0mrowInfo\u001b[0m\u001b[0;34m)\u001b[0m\u001b[0;34m\u001b[0m\u001b[0;34m\u001b[0m\u001b[0m\n\u001b[0m",
            "\u001b[0;32m<ipython-input-196-eda7b9da0318>\u001b[0m in \u001b[0;36mdictWritter\u001b[0;34m(filename, rows)\u001b[0m\n\u001b[1;32m      1\u001b[0m \u001b[0;32mdef\u001b[0m \u001b[0mdictWritter\u001b[0m\u001b[0;34m(\u001b[0m\u001b[0mfilename\u001b[0m\u001b[0;34m=\u001b[0m\u001b[0mfilenameStats\u001b[0m\u001b[0;34m,\u001b[0m\u001b[0mrows\u001b[0m\u001b[0;34m=\u001b[0m\u001b[0mrowInfo\u001b[0m\u001b[0;34m)\u001b[0m\u001b[0;34m:\u001b[0m\u001b[0;34m\u001b[0m\u001b[0;34m\u001b[0m\u001b[0m\n\u001b[1;32m      2\u001b[0m       \u001b[0;32mwith\u001b[0m \u001b[0mopen\u001b[0m\u001b[0;34m(\u001b[0m\u001b[0mfilename\u001b[0m\u001b[0;34m,\u001b[0m \u001b[0;34m'a'\u001b[0m\u001b[0;34m)\u001b[0m \u001b[0;32mas\u001b[0m \u001b[0mcsvfile\u001b[0m\u001b[0;34m:\u001b[0m\u001b[0;34m\u001b[0m\u001b[0;34m\u001b[0m\u001b[0m\n\u001b[0;32m----> 3\u001b[0;31m         \u001b[0mwriter\u001b[0m\u001b[0;34m.\u001b[0m\u001b[0mwriteheader\u001b[0m\u001b[0;34m(\u001b[0m\u001b[0;34m)\u001b[0m\u001b[0;34m\u001b[0m\u001b[0;34m\u001b[0m\u001b[0m\n\u001b[0m\u001b[1;32m      4\u001b[0m         \u001b[0mwriter\u001b[0m\u001b[0;34m.\u001b[0m\u001b[0mwriterows\u001b[0m\u001b[0;34m(\u001b[0m\u001b[0;34m[\u001b[0m\u001b[0mrows\u001b[0m\u001b[0;34m]\u001b[0m\u001b[0;34m)\u001b[0m\u001b[0;34m\u001b[0m\u001b[0;34m\u001b[0m\u001b[0m\n",
            "\u001b[0;32m/usr/lib/python3.10/csv.py\u001b[0m in \u001b[0;36mwriteheader\u001b[0;34m(self)\u001b[0m\n\u001b[1;32m    141\u001b[0m     \u001b[0;32mdef\u001b[0m \u001b[0mwriteheader\u001b[0m\u001b[0;34m(\u001b[0m\u001b[0mself\u001b[0m\u001b[0;34m)\u001b[0m\u001b[0;34m:\u001b[0m\u001b[0;34m\u001b[0m\u001b[0;34m\u001b[0m\u001b[0m\n\u001b[1;32m    142\u001b[0m         \u001b[0mheader\u001b[0m \u001b[0;34m=\u001b[0m \u001b[0mdict\u001b[0m\u001b[0;34m(\u001b[0m\u001b[0mzip\u001b[0m\u001b[0;34m(\u001b[0m\u001b[0mself\u001b[0m\u001b[0;34m.\u001b[0m\u001b[0mfieldnames\u001b[0m\u001b[0;34m,\u001b[0m \u001b[0mself\u001b[0m\u001b[0;34m.\u001b[0m\u001b[0mfieldnames\u001b[0m\u001b[0;34m)\u001b[0m\u001b[0;34m)\u001b[0m\u001b[0;34m\u001b[0m\u001b[0;34m\u001b[0m\u001b[0m\n\u001b[0;32m--> 143\u001b[0;31m         \u001b[0;32mreturn\u001b[0m \u001b[0mself\u001b[0m\u001b[0;34m.\u001b[0m\u001b[0mwriterow\u001b[0m\u001b[0;34m(\u001b[0m\u001b[0mheader\u001b[0m\u001b[0;34m)\u001b[0m\u001b[0;34m\u001b[0m\u001b[0;34m\u001b[0m\u001b[0m\n\u001b[0m\u001b[1;32m    144\u001b[0m \u001b[0;34m\u001b[0m\u001b[0m\n\u001b[1;32m    145\u001b[0m     \u001b[0;32mdef\u001b[0m \u001b[0m_dict_to_list\u001b[0m\u001b[0;34m(\u001b[0m\u001b[0mself\u001b[0m\u001b[0;34m,\u001b[0m \u001b[0mrowdict\u001b[0m\u001b[0;34m)\u001b[0m\u001b[0;34m:\u001b[0m\u001b[0;34m\u001b[0m\u001b[0;34m\u001b[0m\u001b[0m\n",
            "\u001b[0;32m/usr/lib/python3.10/csv.py\u001b[0m in \u001b[0;36mwriterow\u001b[0;34m(self, rowdict)\u001b[0m\n\u001b[1;32m    152\u001b[0m \u001b[0;34m\u001b[0m\u001b[0m\n\u001b[1;32m    153\u001b[0m     \u001b[0;32mdef\u001b[0m \u001b[0mwriterow\u001b[0m\u001b[0;34m(\u001b[0m\u001b[0mself\u001b[0m\u001b[0;34m,\u001b[0m \u001b[0mrowdict\u001b[0m\u001b[0;34m)\u001b[0m\u001b[0;34m:\u001b[0m\u001b[0;34m\u001b[0m\u001b[0;34m\u001b[0m\u001b[0m\n\u001b[0;32m--> 154\u001b[0;31m         \u001b[0;32mreturn\u001b[0m \u001b[0mself\u001b[0m\u001b[0;34m.\u001b[0m\u001b[0mwriter\u001b[0m\u001b[0;34m.\u001b[0m\u001b[0mwriterow\u001b[0m\u001b[0;34m(\u001b[0m\u001b[0mself\u001b[0m\u001b[0;34m.\u001b[0m\u001b[0m_dict_to_list\u001b[0m\u001b[0;34m(\u001b[0m\u001b[0mrowdict\u001b[0m\u001b[0;34m)\u001b[0m\u001b[0;34m)\u001b[0m\u001b[0;34m\u001b[0m\u001b[0;34m\u001b[0m\u001b[0m\n\u001b[0m\u001b[1;32m    155\u001b[0m \u001b[0;34m\u001b[0m\u001b[0m\n\u001b[1;32m    156\u001b[0m     \u001b[0;32mdef\u001b[0m \u001b[0mwriterows\u001b[0m\u001b[0;34m(\u001b[0m\u001b[0mself\u001b[0m\u001b[0;34m,\u001b[0m \u001b[0mrowdicts\u001b[0m\u001b[0;34m)\u001b[0m\u001b[0;34m:\u001b[0m\u001b[0;34m\u001b[0m\u001b[0;34m\u001b[0m\u001b[0m\n",
            "\u001b[0;31mValueError\u001b[0m: I/O operation on closed file."
          ]
        }
      ]
    },
    {
      "cell_type": "code",
      "source": [
        "field_names = [\"team\",\"rival\",\"own_score_tt\",\"rival_score_tt\",\"own_score_ct\",\"rival_score_ct\"]\n",
        "with open('Names.csv', 'w') as csvfile:\n",
        "    writer = csv.DictWriter(csvfile, fieldnames = field_names)\n",
        "    writer.writeheader()\n",
        "    writer.writerows([rowInfo])"
      ],
      "metadata": {
        "id": "cHQSYNJI__Jx",
        "colab": {
          "base_uri": "https://localhost:8080/",
          "height": 329
        },
        "outputId": "d3712a65-bc5b-4967-878e-059b147a920b"
      },
      "execution_count": null,
      "outputs": [
        {
          "output_type": "error",
          "ename": "ValueError",
          "evalue": "dict contains fields not in fieldnames: 'own_pistol_ct', 'own_pistol_tt', 'map'",
          "traceback": [
            "\u001b[0;31m---------------------------------------------------------------------------\u001b[0m",
            "\u001b[0;31mValueError\u001b[0m                                Traceback (most recent call last)",
            "\u001b[0;32m<ipython-input-202-575dea9aa776>\u001b[0m in \u001b[0;36m<cell line: 2>\u001b[0;34m()\u001b[0m\n\u001b[1;32m      3\u001b[0m     \u001b[0mwriter\u001b[0m \u001b[0;34m=\u001b[0m \u001b[0mcsv\u001b[0m\u001b[0;34m.\u001b[0m\u001b[0mDictWriter\u001b[0m\u001b[0;34m(\u001b[0m\u001b[0mcsvfile\u001b[0m\u001b[0;34m,\u001b[0m \u001b[0mfieldnames\u001b[0m \u001b[0;34m=\u001b[0m \u001b[0mfield_names\u001b[0m\u001b[0;34m)\u001b[0m\u001b[0;34m\u001b[0m\u001b[0;34m\u001b[0m\u001b[0m\n\u001b[1;32m      4\u001b[0m     \u001b[0mwriter\u001b[0m\u001b[0;34m.\u001b[0m\u001b[0mwriteheader\u001b[0m\u001b[0;34m(\u001b[0m\u001b[0;34m)\u001b[0m\u001b[0;34m\u001b[0m\u001b[0;34m\u001b[0m\u001b[0m\n\u001b[0;32m----> 5\u001b[0;31m     \u001b[0mwriter\u001b[0m\u001b[0;34m.\u001b[0m\u001b[0mwriterows\u001b[0m\u001b[0;34m(\u001b[0m\u001b[0;34m[\u001b[0m\u001b[0mrowInfo\u001b[0m\u001b[0;34m]\u001b[0m\u001b[0;34m)\u001b[0m\u001b[0;34m\u001b[0m\u001b[0;34m\u001b[0m\u001b[0m\n\u001b[0m",
            "\u001b[0;32m/usr/lib/python3.10/csv.py\u001b[0m in \u001b[0;36mwriterows\u001b[0;34m(self, rowdicts)\u001b[0m\n\u001b[1;32m    155\u001b[0m \u001b[0;34m\u001b[0m\u001b[0m\n\u001b[1;32m    156\u001b[0m     \u001b[0;32mdef\u001b[0m \u001b[0mwriterows\u001b[0m\u001b[0;34m(\u001b[0m\u001b[0mself\u001b[0m\u001b[0;34m,\u001b[0m \u001b[0mrowdicts\u001b[0m\u001b[0;34m)\u001b[0m\u001b[0;34m:\u001b[0m\u001b[0;34m\u001b[0m\u001b[0;34m\u001b[0m\u001b[0m\n\u001b[0;32m--> 157\u001b[0;31m         \u001b[0;32mreturn\u001b[0m \u001b[0mself\u001b[0m\u001b[0;34m.\u001b[0m\u001b[0mwriter\u001b[0m\u001b[0;34m.\u001b[0m\u001b[0mwriterows\u001b[0m\u001b[0;34m(\u001b[0m\u001b[0mmap\u001b[0m\u001b[0;34m(\u001b[0m\u001b[0mself\u001b[0m\u001b[0;34m.\u001b[0m\u001b[0m_dict_to_list\u001b[0m\u001b[0;34m,\u001b[0m \u001b[0mrowdicts\u001b[0m\u001b[0;34m)\u001b[0m\u001b[0;34m)\u001b[0m\u001b[0;34m\u001b[0m\u001b[0;34m\u001b[0m\u001b[0m\n\u001b[0m\u001b[1;32m    158\u001b[0m \u001b[0;34m\u001b[0m\u001b[0m\n\u001b[1;32m    159\u001b[0m \u001b[0;31m# Guard Sniffer's type checking against builds that exclude complex()\u001b[0m\u001b[0;34m\u001b[0m\u001b[0;34m\u001b[0m\u001b[0m\n",
            "\u001b[0;32m/usr/lib/python3.10/csv.py\u001b[0m in \u001b[0;36m_dict_to_list\u001b[0;34m(self, rowdict)\u001b[0m\n\u001b[1;32m    147\u001b[0m             \u001b[0mwrong_fields\u001b[0m \u001b[0;34m=\u001b[0m \u001b[0mrowdict\u001b[0m\u001b[0;34m.\u001b[0m\u001b[0mkeys\u001b[0m\u001b[0;34m(\u001b[0m\u001b[0;34m)\u001b[0m \u001b[0;34m-\u001b[0m \u001b[0mself\u001b[0m\u001b[0;34m.\u001b[0m\u001b[0mfieldnames\u001b[0m\u001b[0;34m\u001b[0m\u001b[0;34m\u001b[0m\u001b[0m\n\u001b[1;32m    148\u001b[0m             \u001b[0;32mif\u001b[0m \u001b[0mwrong_fields\u001b[0m\u001b[0;34m:\u001b[0m\u001b[0;34m\u001b[0m\u001b[0;34m\u001b[0m\u001b[0m\n\u001b[0;32m--> 149\u001b[0;31m                 raise ValueError(\"dict contains fields not in fieldnames: \"\n\u001b[0m\u001b[1;32m    150\u001b[0m                                  + \", \".join([repr(x) for x in wrong_fields]))\n\u001b[1;32m    151\u001b[0m         \u001b[0;32mreturn\u001b[0m \u001b[0;34m(\u001b[0m\u001b[0mrowdict\u001b[0m\u001b[0;34m.\u001b[0m\u001b[0mget\u001b[0m\u001b[0;34m(\u001b[0m\u001b[0mkey\u001b[0m\u001b[0;34m,\u001b[0m \u001b[0mself\u001b[0m\u001b[0;34m.\u001b[0m\u001b[0mrestval\u001b[0m\u001b[0;34m)\u001b[0m \u001b[0;32mfor\u001b[0m \u001b[0mkey\u001b[0m \u001b[0;32min\u001b[0m \u001b[0mself\u001b[0m\u001b[0;34m.\u001b[0m\u001b[0mfieldnames\u001b[0m\u001b[0;34m)\u001b[0m\u001b[0;34m\u001b[0m\u001b[0;34m\u001b[0m\u001b[0m\n",
            "\u001b[0;31mValueError\u001b[0m: dict contains fields not in fieldnames: 'own_pistol_ct', 'own_pistol_tt', 'map'"
          ]
        }
      ]
    },
    {
      "cell_type": "code",
      "source": [
        "bloques_equipos = soup.find_all('div', class_='team')\n",
        "for bloque in bloques_equipos:\n",
        "  rowInfo = []\n",
        "  try:\n",
        "    (bloque.find(\"div\",class_=\"team-name\").text.strip())\n",
        "  except:\n",
        "    pass"
      ],
      "metadata": {
        "colab": {
          "base_uri": "https://localhost:8080/"
        },
        "id": "db_nlbQDfilr",
        "outputId": "c3e6831d-71e3-4ccf-baab-18ae934ef538"
      },
      "execution_count": null,
      "outputs": [
        {
          "output_type": "stream",
          "name": "stdout",
          "text": [
            "Evil Geniuses\n",
            "LOUD\n",
            "Evil Geniuses\n",
            "LOUD\n",
            "Evil Geniuses\n",
            "LOUD\n"
          ]
        }
      ]
    },
    {
      "cell_type": "code",
      "source": [
        "for count, bloque in enumerate(bloques_equipos):\n",
        "  print(count)\n",
        "  try:\n",
        "    equipoActual = bloque.find(\"div\",class_=\"team-name\").text.strip()\n",
        "    print(equipoActual)\n",
        "    equipo = bloque.find(\"div\",class_=\"team-name\").text.strip()\n",
        "    spans = bloque.find_all(\"span\")\n",
        "    for span in spans:\n",
        "      if span[\"class\"][0] == \"mod-ct\":\n",
        "        print(span.text)\n",
        "      print(span)\n",
        "  except:\n",
        "    pass"
      ],
      "metadata": {
        "colab": {
          "base_uri": "https://localhost:8080/"
        },
        "id": "vMEd9YvelDLp",
        "outputId": "ed1dc1ae-b270-43a2-9836-69165acfba08"
      },
      "execution_count": null,
      "outputs": [
        {
          "output_type": "stream",
          "name": "stdout",
          "text": [
            "0\n",
            "Evil Geniuses\n",
            "9\n",
            "<span class=\"mod-ct\">9</span>\n",
            "<span class=\"mod-t\">4</span>\n",
            "1\n",
            "LOUD\n",
            "<span class=\"mod-t\">3</span>\n",
            "4\n",
            "<span class=\"mod-ct\">4</span>\n",
            "2\n",
            "3\n",
            "4\n",
            "Evil Geniuses\n",
            "4\n",
            "<span class=\"mod-ct\">4</span>\n",
            "<span class=\"mod-t\">3</span>\n",
            "5\n",
            "LOUD\n",
            "<span class=\"mod-t\">8</span>\n",
            "5\n",
            "<span class=\"mod-ct\">5</span>\n",
            "6\n",
            "7\n",
            "8\n",
            "Evil Geniuses\n",
            "<span class=\"mod-t\">4</span>\n",
            "1\n",
            "<span class=\"mod-ct\">1</span>\n",
            "9\n",
            "LOUD\n",
            "8\n",
            "<span class=\"mod-ct\">8</span>\n",
            "<span class=\"mod-t\">5</span>\n",
            "10\n",
            "11\n"
          ]
        }
      ]
    },
    {
      "cell_type": "code",
      "source": [
        "print(spans[0][\"class\"][0])\n",
        "print(spans[0].text)"
      ],
      "metadata": {
        "colab": {
          "base_uri": "https://localhost:8080/"
        },
        "id": "6TE8NFkqlqEt",
        "outputId": "2a817f6b-7399-48a8-9f1a-0d5b31ebe530"
      },
      "execution_count": null,
      "outputs": [
        {
          "output_type": "stream",
          "name": "stdout",
          "text": [
            "mod-ct\n",
            "8\n"
          ]
        }
      ]
    },
    {
      "cell_type": "code",
      "source": [
        "for bloque in bloques_equipos:\n",
        "  #print(bloque)\n",
        "  equipo = bloque.get_text().strip()\n",
        "  print(equipo)\n",
        "  spans = bloque.find_all(\"span\")\n",
        "  print(spans)"
      ],
      "metadata": {
        "colab": {
          "base_uri": "https://localhost:8080/"
        },
        "id": "zad274D1fu_8",
        "outputId": "31348daa-6c65-4ec6-8627-93647d60a4d5"
      },
      "execution_count": null,
      "outputs": [
        {
          "output_type": "stream",
          "name": "stdout",
          "text": [
            "13 \n",
            "\n",
            "\n",
            "\t\t\t\t\t\t\tEvil Geniuses\t\t\t\t\t\t\n",
            "9 /\n",
            "\t\t\t\t\t\t4\n",
            "[<span class=\"mod-ct\">9</span>, <span class=\"mod-t\">4</span>]\n",
            "LOUD\t\t\t\t\t\t\n",
            "3 /\n",
            "\t\t\t\t\t\t4\n",
            "\n",
            "7\n",
            "[<span class=\"mod-t\">3</span>, <span class=\"mod-ct\">4</span>]\n",
            "EG\n",
            "[]\n",
            "LOUD\n",
            "[]\n",
            "7 \n",
            "\n",
            "\n",
            "\t\t\t\t\t\t\tEvil Geniuses\t\t\t\t\t\t\n",
            "4 /\n",
            "\t\t\t\t\t\t3\n",
            "[<span class=\"mod-ct\">4</span>, <span class=\"mod-t\">3</span>]\n",
            "LOUD\t\t\t\t\t\t\n",
            "8 /\n",
            "\t\t\t\t\t\t5\n",
            "\n",
            "13\n",
            "[<span class=\"mod-t\">8</span>, <span class=\"mod-ct\">5</span>]\n",
            "EG\n",
            "[]\n",
            "LOUD\n",
            "[]\n",
            "5 \n",
            "\n",
            "\n",
            "\t\t\t\t\t\t\tEvil Geniuses\t\t\t\t\t\t\n",
            "4 /\n",
            "\t\t\t\t\t\t1\n",
            "[<span class=\"mod-t\">4</span>, <span class=\"mod-ct\">1</span>]\n",
            "LOUD\t\t\t\t\t\t\n",
            "8 /\n",
            "\t\t\t\t\t\t5\n",
            "\n",
            "13\n",
            "[<span class=\"mod-ct\">8</span>, <span class=\"mod-t\">5</span>]\n",
            "EG\n",
            "[]\n",
            "LOUD\n",
            "[]\n"
          ]
        }
      ]
    },
    {
      "cell_type": "code",
      "source": [
        "\n",
        "\n",
        "  puntajes = [int(spans.text.strip()) for span in spans]"
      ],
      "metadata": {
        "colab": {
          "base_uri": "https://localhost:8080/"
        },
        "id": "oFBCGXWchGX6",
        "outputId": "ac39b977-516d-452d-f924-3b8ea1807791"
      },
      "execution_count": null,
      "outputs": [
        {
          "output_type": "stream",
          "name": "stdout",
          "text": [
            "[]\n"
          ]
        }
      ]
    },
    {
      "cell_type": "code",
      "source": [
        " print(spans)"
      ],
      "metadata": {
        "colab": {
          "base_uri": "https://localhost:8080/"
        },
        "id": "oi7Knofxi3iJ",
        "outputId": "75437797-dcd2-4b60-da47-3dd280999c63"
      },
      "execution_count": null,
      "outputs": [
        {
          "output_type": "stream",
          "name": "stdout",
          "text": [
            "[]\n"
          ]
        }
      ]
    },
    {
      "cell_type": "code",
      "source": [
        "equipo = soup.find('div', class_='team-name').text.strip()\n",
        "\n",
        "# Obtener los puntajes\n",
        "puntajes = soup.find_all('span')\n",
        "\n",
        "# Convertir los puntajes a una lista de números\n",
        "puntajes = [int(puntaje.text.strip()) for puntaje in puntajes]\n",
        "\n",
        "print(f\"Equipo: {equipo}\")\n",
        "print(f\"Puntajes: {puntajes}\")"
      ],
      "metadata": {
        "colab": {
          "base_uri": "https://localhost:8080/",
          "height": 341
        },
        "id": "j9u1E7NrfeuB",
        "outputId": "f2fe74d0-21e3-4bf7-bd7d-0830799d5a6d"
      },
      "execution_count": null,
      "outputs": [
        {
          "output_type": "error",
          "ename": "ValueError",
          "evalue": "invalid literal for int() with base 10: 'BETA2'",
          "traceback": [
            "\u001b[0;31m---------------------------------------------------------------------------\u001b[0m",
            "\u001b[0;31mValueError\u001b[0m                                Traceback (most recent call last)",
            "\u001b[0;32m<ipython-input-72-5fa3e8104f72>\u001b[0m in \u001b[0;36m<cell line: 7>\u001b[0;34m()\u001b[0m\n\u001b[1;32m      5\u001b[0m \u001b[0;34m\u001b[0m\u001b[0m\n\u001b[1;32m      6\u001b[0m \u001b[0;31m# Convertir los puntajes a una lista de números\u001b[0m\u001b[0;34m\u001b[0m\u001b[0;34m\u001b[0m\u001b[0m\n\u001b[0;32m----> 7\u001b[0;31m \u001b[0mpuntajes\u001b[0m \u001b[0;34m=\u001b[0m \u001b[0;34m[\u001b[0m\u001b[0mint\u001b[0m\u001b[0;34m(\u001b[0m\u001b[0mpuntaje\u001b[0m\u001b[0;34m.\u001b[0m\u001b[0mtext\u001b[0m\u001b[0;34m.\u001b[0m\u001b[0mstrip\u001b[0m\u001b[0;34m(\u001b[0m\u001b[0;34m)\u001b[0m\u001b[0;34m)\u001b[0m \u001b[0;32mfor\u001b[0m \u001b[0mpuntaje\u001b[0m \u001b[0;32min\u001b[0m \u001b[0mpuntajes\u001b[0m\u001b[0;34m]\u001b[0m\u001b[0;34m\u001b[0m\u001b[0;34m\u001b[0m\u001b[0m\n\u001b[0m\u001b[1;32m      8\u001b[0m \u001b[0;34m\u001b[0m\u001b[0m\n\u001b[1;32m      9\u001b[0m \u001b[0mprint\u001b[0m\u001b[0;34m(\u001b[0m\u001b[0;34mf\"Equipo: {equipo}\"\u001b[0m\u001b[0;34m)\u001b[0m\u001b[0;34m\u001b[0m\u001b[0;34m\u001b[0m\u001b[0m\n",
            "\u001b[0;32m<ipython-input-72-5fa3e8104f72>\u001b[0m in \u001b[0;36m<listcomp>\u001b[0;34m(.0)\u001b[0m\n\u001b[1;32m      5\u001b[0m \u001b[0;34m\u001b[0m\u001b[0m\n\u001b[1;32m      6\u001b[0m \u001b[0;31m# Convertir los puntajes a una lista de números\u001b[0m\u001b[0;34m\u001b[0m\u001b[0;34m\u001b[0m\u001b[0m\n\u001b[0;32m----> 7\u001b[0;31m \u001b[0mpuntajes\u001b[0m \u001b[0;34m=\u001b[0m \u001b[0;34m[\u001b[0m\u001b[0mint\u001b[0m\u001b[0;34m(\u001b[0m\u001b[0mpuntaje\u001b[0m\u001b[0;34m.\u001b[0m\u001b[0mtext\u001b[0m\u001b[0;34m.\u001b[0m\u001b[0mstrip\u001b[0m\u001b[0;34m(\u001b[0m\u001b[0;34m)\u001b[0m\u001b[0;34m)\u001b[0m \u001b[0;32mfor\u001b[0m \u001b[0mpuntaje\u001b[0m \u001b[0;32min\u001b[0m \u001b[0mpuntajes\u001b[0m\u001b[0;34m]\u001b[0m\u001b[0;34m\u001b[0m\u001b[0;34m\u001b[0m\u001b[0m\n\u001b[0m\u001b[1;32m      8\u001b[0m \u001b[0;34m\u001b[0m\u001b[0m\n\u001b[1;32m      9\u001b[0m \u001b[0mprint\u001b[0m\u001b[0;34m(\u001b[0m\u001b[0;34mf\"Equipo: {equipo}\"\u001b[0m\u001b[0;34m)\u001b[0m\u001b[0;34m\u001b[0m\u001b[0;34m\u001b[0m\u001b[0m\n",
            "\u001b[0;31mValueError\u001b[0m: invalid literal for int() with base 10: 'BETA2'"
          ]
        }
      ]
    },
    {
      "cell_type": "code",
      "source": [
        "temp1 = \"\"\n",
        "temp2 = \"\"\n",
        "for count, element in enumerate(picksBans):\n",
        "  if count == 0:\n",
        "    temp1 = element.split()[0]\n",
        "\n",
        "\n",
        "print(temp1)"
      ],
      "metadata": {
        "colab": {
          "base_uri": "https://localhost:8080/"
        },
        "id": "sf43OkPv1x7a",
        "outputId": "8b7b32e2-0a6d-4ebd-a911-aa3861f9ddc4"
      },
      "execution_count": null,
      "outputs": [
        {
          "output_type": "stream",
          "name": "stdout",
          "text": [
            "LOUD\n"
          ]
        }
      ]
    },
    {
      "cell_type": "code",
      "source": [
        "print(soup.find(id=\"match-header-vs-score\"))"
      ],
      "metadata": {
        "colab": {
          "base_uri": "https://localhost:8080/"
        },
        "id": "zuEI27-xwo_Y",
        "outputId": "ef7629a0-943b-44a1-d9be-7a670af1919f"
      },
      "execution_count": null,
      "outputs": [
        {
          "output_type": "stream",
          "name": "stdout",
          "text": [
            "None\n"
          ]
        }
      ]
    },
    {
      "cell_type": "code",
      "source": [
        "#Execepciones\n",
        "class RequestsException(Exception):\n",
        "\n",
        "    def __init__(self, message, code=500):\n",
        "        super(RequestsException, self).__init__(message)\n",
        "        self.code = code"
      ],
      "metadata": {
        "id": "voWPFnh-vNlZ"
      },
      "execution_count": null,
      "outputs": []
    },
    {
      "cell_type": "code",
      "source": [
        "#import liquipediapy.exceptions as ex (Esta es la fila de arriba)\n",
        "from bs4 import BeautifulSoup\n",
        "import requests\n",
        "from urllib.request import quote\n",
        "\n",
        "\n",
        "class liquipediapy():\n",
        "\tdef __init__(self, appname: str, game: str, debug_folder: str= \"\"):\n",
        "\t\tself.appname = appname\n",
        "\t\tself.game = game\n",
        "\t\tself.__headers = {'User-Agent': appname, 'Accept-Encoding': 'gzip'}\n",
        "\t\tself.__base_url = 'https://liquipedia.net/'+game+'/api.php?'\n",
        "\n",
        "\t\t# If enabled, offer the possibility to\n",
        "\t\t# write the output of parse.page_html to a folder\n",
        "\t\t# and reading from it afterwards to avoid surcharing liquipedia api\n",
        "\t\t# If read mode and file requested not in folder, query will happen\n",
        "\t\t\"\"\"self.__debug = False\n",
        "\t\tif debug_folder != \"\":\n",
        "\t\t\tself.devparser = DevParser(debug_folder)\n",
        "\t\t\tself.__debug = True\"\"\"\n",
        "\n",
        "\tdef parse(self,page):\n",
        "\t\tsuccess, soup = False, None\n",
        "\n",
        "\t\t# If page.html is readable from file\n",
        "\t\tif self.__debug and self.devparser.isPageAvailableLocally(page):\n",
        "\t\t\tsuccess, soup = self.devparser.fromFile(page)\n",
        "\t\telse:\n",
        "\t\t\turl = self.__base_url+'action=parse&format=json&page='+page\n",
        "\t\t\tresponse = requests.get(url, headers=self.__headers)\n",
        "\t\t\tif response.status_code == 200:\n",
        "\t\t\t\ttry:\n",
        "\t\t\t\t\tpage_html = response.json()['parse']['text']['*']\n",
        "\t\t\t\texcept KeyError:\n",
        "\t\t\t\t\traise RequestsException(response.json(),response.status_code)\n",
        "\t\t\telse:\n",
        "\t\t\t\traise RequestsException(response.json(),response.status_code)\n",
        "\n",
        "\t\t\tsoup = BeautifulSoup(page_html,features=\"lxml\")\n",
        "\n",
        "\t\t# If page.html wasn't readable from file, write it for next time\n",
        "\t\tif (self.__debug and not self.devparser.isPageAvailableLocally(page)):\n",
        "\t\t\tself.devparser.toFile(soup, page)\n",
        "\n",
        "\t\tredirect = soup.find('ul',class_=\"redirectText\")\n",
        "\t\tif redirect is None:\n",
        "\t\t\treturn soup,None\n",
        "\t\telse:\n",
        "\t\t\tredirect_value = soup.find('a').get_text()\n",
        "\t\t\tredirect_value = quote(redirect_value)\n",
        "\t\t\tsoup,__ = self.parse(redirect_value)\n",
        "\t\t\treturn soup,redirect_value\n",
        "\n",
        "\n",
        "\n",
        "\tdef dota2webapi(self,matchId):\n",
        "\t\tif self.game == 'dota2':\n",
        "\t\t\turl = self.__base_url+'action=dota2webapi&data=picks_bans|players|kills_deaths|duration|radiant_win|teams|start_time&format=json&matchid='+matchId\n",
        "\t\t\tresponse = requests.get(url, headers=self.__headers)\n",
        "\t\t\tif response.status_code == 200:\n",
        "\t\t\t\tres = response.json()\n",
        "\t\t\t\tif res['dota2webapi']['isresult'] >= 1:\n",
        "\t\t\t\t\treturn res['dota2webapi']['result']\n",
        "\t\t\t\telse:\n",
        "\t\t\t\t\treturn res['dota2webapi']['result']['error']\n",
        "\t\t\telse:\n",
        "\t\t\t\traise ex.RequestsException(response.json(),response.status_code)\n",
        "\t\telse:\n",
        "\t\t\traise ex.RequestsException('set game as dota2 to access this api',0)\n",
        "\n",
        "\n",
        "\n",
        "\tdef search(self,serachValue):\n",
        "\t\turl = self.__base_url+'action=opensearch&format=json&search='+serachValue\n",
        "\t\tresponse = requests.get(url, headers=self.__headers)\n",
        "\t\tif response.status_code == 200:\n",
        "\t\t\treturn  response.json()\n",
        "\t\telse:\n",
        "\t\t\traise RequestsException(response.json(),response.status_code)"
      ],
      "metadata": {
        "id": "DW7BkTJKrViT"
      },
      "execution_count": null,
      "outputs": []
    },
    {
      "cell_type": "code",
      "source": [
        "liquipy_object = liquipediapy('appname',\"dota2\")"
      ],
      "metadata": {
        "id": "L1P4fTWSvEYT"
      },
      "execution_count": null,
      "outputs": []
    },
    {
      "cell_type": "code",
      "source": [],
      "metadata": {
        "id": "BQ1DlItNxmLf"
      },
      "execution_count": null,
      "outputs": []
    },
    {
      "cell_type": "code",
      "source": [
        "response = requests.get('https://liquipedia.net/valorant/api.php?')"
      ],
      "metadata": {
        "id": "PWLLYuLfrYG7"
      },
      "execution_count": null,
      "outputs": []
    },
    {
      "cell_type": "code",
      "source": [
        "response.status_code"
      ],
      "metadata": {
        "colab": {
          "base_uri": "https://localhost:8080/"
        },
        "id": "iL_4AaUDuz63",
        "outputId": "59bbe1f7-0a37-4d68-e6d0-9bb51bb86c46"
      },
      "execution_count": null,
      "outputs": [
        {
          "output_type": "execute_result",
          "data": {
            "text/plain": [
              "200"
            ]
          },
          "metadata": {},
          "execution_count": 9
        }
      ]
    },
    {
      "cell_type": "code",
      "source": [
        "print(response)"
      ],
      "metadata": {
        "colab": {
          "base_uri": "https://localhost:8080/"
        },
        "id": "lGoWsZtSuvUu",
        "outputId": "72d1e214-e9e1-45ec-fdfe-60b03c4735f0"
      },
      "execution_count": null,
      "outputs": [
        {
          "output_type": "stream",
          "name": "stdout",
          "text": [
            "<Response [200]>\n"
          ]
        }
      ]
    }
  ]
}